{
 "cells": [
  {
   "cell_type": "code",
   "execution_count": 1,
   "metadata": {},
   "outputs": [],
   "source": [
    "def display_board(board):\n",
    "    print(\"   |   |\")\n",
    "    print(\" \" + board[7]+ \" | \"+board[8]+ \" | \"+ board[9])\n",
    "    print(\"   |   |\")\n",
    "    print(\"-----------\")\n",
    "    print(\"   |   |\")\n",
    "    print(\" \" + board[4]+ \" | \"+board[5]+ \" | \"+ board[6])\n",
    "    print(\"   |   |\")\n",
    "    print(\"-----------\")\n",
    "    print(\"   |   |\")\n",
    "    print(\" \" + board[1]+ \" | \"+board[2]+ \" | \"+ board[3])\n",
    "    print(\"   |   |\")\n",
    "    "
   ]
  },
  {
   "cell_type": "code",
   "execution_count": 2,
   "metadata": {},
   "outputs": [
    {
     "name": "stdout",
     "output_type": "stream",
     "text": [
      "   |   |\n",
      "   |   |  \n",
      "   |   |\n",
      "-----------\n",
      "   |   |\n",
      "   |   |  \n",
      "   |   |\n",
      "-----------\n",
      "   |   |\n",
      "   |   |  \n",
      "   |   |\n"
     ]
    }
   ],
   "source": [
    "board=[' ',' ',' ',' ',' ',' ',' ',' ',' ',' ']\n",
    "display_board(board)"
   ]
  },
  {
   "cell_type": "code",
   "execution_count": 3,
   "metadata": {},
   "outputs": [],
   "source": [
    "def new_game():\n",
    "    new_game=input(\"Do you want to play a new game? Yes or No:\")\n",
    "    if new_game.title()==\"Yes\":\n",
    "        return True\n",
    "    elif new_game.title()==\"No\":\n",
    "        return False"
   ]
  },
  {
   "cell_type": "code",
   "execution_count": 4,
   "metadata": {},
   "outputs": [],
   "source": [
    "def choose_marker():\n",
    "    marker=input(\"Choose your player: 'X or O'?\")\n",
    "    if marker.capitalize() == \"X\":\n",
    "        return(\"X\",\"O\")\n",
    "    elif marker.capitalize() == \"O\":\n",
    "        return (\"O\",\"X\")"
   ]
  },
  {
   "cell_type": "code",
   "execution_count": 5,
   "metadata": {},
   "outputs": [],
   "source": [
    "def place_marker(board,position,marker):\n",
    "    board[position]=marker"
   ]
  },
  {
   "cell_type": "code",
   "execution_count": 6,
   "metadata": {},
   "outputs": [],
   "source": [
    "def first_player():\n",
    "    import random\n",
    "    if random.randint(0,1) == 0:\n",
    "        return (\"Player 1\")\n",
    "    else:\n",
    "        return (\"Player 2\")\n",
    "    "
   ]
  },
  {
   "cell_type": "code",
   "execution_count": 7,
   "metadata": {},
   "outputs": [],
   "source": [
    "def space_occupied(board,position):\n",
    "    return board[position]==' '\n",
    "        \n",
    "    "
   ]
  },
  {
   "cell_type": "code",
   "execution_count": 8,
   "metadata": {},
   "outputs": [],
   "source": [
    "def player_moves(board):\n",
    "    position=0\n",
    "    while not space_occupied(board,position):\n",
    "        position=int(input(\"Pick a position (number) between 1-9:\"))\n",
    "    return position\n",
    "        \n",
    "        "
   ]
  },
  {
   "cell_type": "code",
   "execution_count": 9,
   "metadata": {},
   "outputs": [],
   "source": [
    "def win_check(board,marker):\n",
    "    if (board[7]==marker and board[8]==marker and board[9]==marker) or (board[4]==marker and board[5]==marker and board[6] == marker) or (board[1]==marker and board[2]==marker and board[3] == marker) or (board[1]==marker and board[5]==marker and board[9] == marker) or (board[3]==marker and board[5]==marker and board[7] == marker) or (board[7]==marker and board[4]==marker and board[1] == marker) or (board[8]==marker and board[5]==marker and board[2] == marker) or (board[9]==marker and board[6]==marker and board[3] == marker):\n",
    "            return True\n",
    "    else:\n",
    "        return False"
   ]
  },
  {
   "cell_type": "code",
   "execution_count": 10,
   "metadata": {},
   "outputs": [],
   "source": [
    "def full_board_check(board):\n",
    "    for elem in range(1,9):\n",
    "        if not space_occupied(board,elem):\n",
    "            return True\n",
    "        else:\n",
    "            return False\n",
    "    \n",
    "     "
   ]
  },
  {
   "cell_type": "code",
   "execution_count": 12,
   "metadata": {},
   "outputs": [
    {
     "name": "stdout",
     "output_type": "stream",
     "text": [
      "Welcome to Tic Tac Toe\n",
      "Do you want to play a new game? Yes or No:yes\n",
      "   |   |\n",
      "   |   |  \n",
      "   |   |\n",
      "-----------\n",
      "   |   |\n",
      "   |   |  \n",
      "   |   |\n",
      "-----------\n",
      "   |   |\n",
      "   |   |  \n",
      "   |   |\n",
      "Choose your player: 'X or O'?x\n",
      "X\n",
      "O\n",
      "Player 2 will go first\n",
      "   |   |\n",
      "   |   |  \n",
      "   |   |\n",
      "-----------\n",
      "   |   |\n",
      "   |   |  \n",
      "   |   |\n",
      "-----------\n",
      "   |   |\n",
      "   |   |  \n",
      "   |   |\n",
      "Pick a position (number) between 1-9:5\n",
      "   |   |\n",
      "   |   |  \n",
      "   |   |\n",
      "-----------\n",
      "   |   |\n",
      "   | X |  \n",
      "   |   |\n",
      "-----------\n",
      "   |   |\n",
      "   |   |  \n",
      "   |   |\n",
      "Pick a position (number) between 1-9:6\n",
      "   |   |\n",
      "   |   |  \n",
      "   |   |\n",
      "-----------\n",
      "   |   |\n",
      "   | X | O\n",
      "   |   |\n",
      "-----------\n",
      "   |   |\n",
      "   |   |  \n",
      "   |   |\n",
      "Pick a position (number) between 1-9:3\n",
      "   |   |\n",
      "   |   |  \n",
      "   |   |\n",
      "-----------\n",
      "   |   |\n",
      "   | X | O\n",
      "   |   |\n",
      "-----------\n",
      "   |   |\n",
      "   |   | X\n",
      "   |   |\n",
      "Pick a position (number) between 1-9:7\n",
      "   |   |\n",
      " O |   |  \n",
      "   |   |\n",
      "-----------\n",
      "   |   |\n",
      "   | X | O\n",
      "   |   |\n",
      "-----------\n",
      "   |   |\n",
      "   |   | X\n",
      "   |   |\n",
      "Pick a position (number) between 1-9:8\n",
      "   |   |\n",
      " O | X |  \n",
      "   |   |\n",
      "-----------\n",
      "   |   |\n",
      "   | X | O\n",
      "   |   |\n",
      "-----------\n",
      "   |   |\n",
      "   |   | X\n",
      "   |   |\n",
      "Pick a position (number) between 1-9:1\n",
      "   |   |\n",
      " O | X |  \n",
      "   |   |\n",
      "-----------\n",
      "   |   |\n",
      "   | X | O\n",
      "   |   |\n",
      "-----------\n",
      "   |   |\n",
      " O |   | X\n",
      "   |   |\n",
      "Boo-hoo!There is a draw!\n",
      "Do you want to play a new game? Yes or No:No\n"
     ]
    }
   ],
   "source": [
    "print(\"Welcome to Tic Tac Toe\")\n",
    "while True:\n",
    "    if new_game():\n",
    "        display_board(board)\n",
    "        player_1,player_2=choose_marker()\n",
    "        print(player_1)\n",
    "        print(player_2)\n",
    "        turn=first_player()\n",
    "        print(turn + \" will go first\")\n",
    "        game_on=True\n",
    "        while game_on:\n",
    "\n",
    "           #first try\n",
    "            if turn==\"Player 1\":\n",
    "                position=player_moves(board)\n",
    "                place_marker(board,position,player_1)\n",
    "                display_board(board)\n",
    "                if win_check(board,player_1):\n",
    "                    print(\"Player 1 won!\")\n",
    "                    game_on=False\n",
    "                else:\n",
    "                    if full_board_check(board):\n",
    "                        print(\"Boo-hoo!There is a draw!\")\n",
    "                        game_on=False\n",
    "                        break\n",
    "                    else:\n",
    "                        turn=\"Player 2\"\n",
    "            else:\n",
    "                #if turn==Player 2\n",
    "                position=player_moves(board)\n",
    "                place_marker(board,position,player_2)\n",
    "                display_board(board)\n",
    "                if win_check(board,player_2):\n",
    "                    print(\"Player 2 won!\")\n",
    "                    game_on=False\n",
    "                else:\n",
    "                    if full_board_check(board):\n",
    "                        print(\"Boo-hoo!There is a draw!\")\n",
    "                        game_on=False\n",
    "                        break\n",
    "                    else:\n",
    "                            turn=\"Player 1\"\n",
    "    else:\n",
    "            break\n",
    "\n",
    "            \n",
    "\n",
    "\n",
    "    \n"
   ]
  },
  {
   "cell_type": "code",
   "execution_count": null,
   "metadata": {},
   "outputs": [],
   "source": [
    "\n"
   ]
  },
  {
   "cell_type": "code",
   "execution_count": null,
   "metadata": {},
   "outputs": [],
   "source": []
  }
 ],
 "metadata": {
  "kernelspec": {
   "display_name": "Python 3",
   "language": "python",
   "name": "python3"
  },
  "language_info": {
   "codemirror_mode": {
    "name": "ipython",
    "version": 3
   },
   "file_extension": ".py",
   "mimetype": "text/x-python",
   "name": "python",
   "nbconvert_exporter": "python",
   "pygments_lexer": "ipython3",
   "version": "3.7.4"
  }
 },
 "nbformat": 4,
 "nbformat_minor": 2
}
